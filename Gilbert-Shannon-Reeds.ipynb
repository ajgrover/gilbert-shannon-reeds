{
 "cells": [
  {
   "cell_type": "code",
   "execution_count": 1,
   "metadata": {
    "collapsed": false
   },
   "outputs": [],
   "source": [
    "import matplotlib\n",
    "matplotlib.use('nbagg')\n",
    "import matplotlib.pyplot as plt\n",
    "import numpy as np\n",
    "import sklearn.utils"
   ]
  },
  {
   "cell_type": "code",
   "execution_count": 2,
   "metadata": {
    "collapsed": true
   },
   "outputs": [],
   "source": [
    "%matplotlib inline\n",
    "%load_ext autoreload\n",
    "%autoreload 2"
   ]
  },
  {
   "cell_type": "markdown",
   "metadata": {},
   "source": [
    "Note that the functions below have `doctest` examples.\n",
    "To test the functions, just run `pytest` in the top level of the repository."
   ]
  },
  {
   "cell_type": "code",
   "execution_count": 3,
   "metadata": {
    "collapsed": true
   },
   "outputs": [],
   "source": [
    "def get_random_number_for_right_deck(n: int, seed: int=None, ) -> int:\n",
    "    \"\"\"\n",
    "    Return the number of cards to split into the right sub-deck.\n",
    "    \n",
    "    :param n: one above the highest number that could be returned by this function.\n",
    "    :param seed: optional seed for the random number generator to enable deterministic behavior.\n",
    "    :return: a random integer (between 1 and n-1) that represents the desired number of cards.\n",
    "    \n",
    "    Examples:\n",
    "    \n",
    "    >>> get_random_number_for_right_deck(n=5, seed=0, )\n",
    "    1\n",
    "    \"\"\"\n",
    "    random = sklearn.utils.check_random_state(seed=seed, )\n",
    "    \n",
    "    return random.randint(low=1, high=n, )"
   ]
  },
  {
   "cell_type": "code",
   "execution_count": 4,
   "metadata": {
    "collapsed": false
   },
   "outputs": [],
   "source": [
    "def should_drop_from_right_deck(n_left: int, n_right:int, seed: int=None, ) -> bool:\n",
    "    \"\"\"\n",
    "    Determine whether we should drop a card from the right or left sub-deck.\n",
    "    \n",
    "    Either `n_left` or `n_right` (or both) must be greater than zero.\n",
    "    \n",
    "    :param n_left: the number of cards in the left sub-deck.\n",
    "    :param n_right: the number of cards in the right sub-deck.\n",
    "    :param seed: optional seed for the random number generator to enable deterministic behavior.\n",
    "    :return: True if we should drop a card from the right sub-deck, False otherwise.\n",
    "    \n",
    "    Examples:\n",
    "\n",
    "    >>> should_drop_from_right_deck(n_left=32, n_right=5, seed=0, )\n",
    "    True\n",
    "\n",
    "    >>> should_drop_from_right_deck(n_left=0, n_right=5, )\n",
    "    True\n",
    "    \n",
    "    >>> should_drop_from_right_deck(n_left=7, n_right=0, )\n",
    "    False\n",
    "    \n",
    "    >>> should_drop_from_right_deck(n_left=0, n_right=0, )\n",
    "    Traceback (most recent call last):\n",
    "    ...\n",
    "    ValueError: Either `n_left` or `n_right` (or both) must be greater than zero.\n",
    "    \"\"\"\n",
    "    if n_left > 0 and n_right > 0:\n",
    "        # There are cards left in both sub-decks, so pick a sub-deck at random.\n",
    "        random = sklearn.utils.check_random_state(seed=seed, )\n",
    "        num = random.randint(low=0, high=2, )\n",
    "        boolean = (num == 0)\n",
    "        return boolean\n",
    "    elif n_left == 0 and n_right > 0:\n",
    "        # There are no more cards in the left sub-deck, only the right sub-deck,\n",
    "        # so we drop from the right sub-deck.\n",
    "        return True\n",
    "    elif n_left > 0 and n_right == 0:\n",
    "        # There are no more cards in the right sub-deck, only the left sub-deck,\n",
    "        # so we drop from the left sub-deck.\n",
    "        return False\n",
    "    else:\n",
    "        # There are no more cards in either sub-deck.\n",
    "        raise ValueError ('Either `n_left` or `n_right` (or both) must be greater than zero.')"
   ]
  },
  {
   "cell_type": "code",
   "execution_count": 5,
   "metadata": {
    "collapsed": true
   },
   "outputs": [],
   "source": [
    "def shuffle(deck: list, seed: int=None, ) -> list:\n",
    "    \"\"\"\n",
    "    Shuffle the input 'deck', a sequence of integers.\n",
    "    \n",
    "    This implementation uses lists, and so performance may suffer for very large input sequences.\n",
    "    \n",
    "    :param seq: the input sequence of integers.\n",
    "    :param seed: optional seed for the random number generator to enable deterministic behavior.\n",
    "    :return: A new deck containing shuffled integers from the input deck.\n",
    "    \n",
    "    Examples:\n",
    "    \n",
    "    >>> shuffle(deck=[0, 7, 3, 8, 4, 9, ], seed=0, )\n",
    "    [4, 8, 3, 7, 0, 9]\n",
    "    \"\"\"\n",
    "    \n",
    "    # First randomly divide the 'deck' into 'left' and 'right' 'sub-decks'.\n",
    "    n = len(deck)\n",
    "    number_for_right_deck = get_random_number_for_right_deck(n=n, seed=seed, )\n",
    "    right_deck = deck[0: number_for_right_deck]\n",
    "    n_right = len(right_deck)\n",
    "    left_deck = deck[number_for_right_deck: n]\n",
    "    n_left = len(left_deck)\n",
    "    \n",
    "    shuffled_deck = []\n",
    "    \n",
    "    while n_left + n_right > 0:\n",
    "        # There are some cards left in the sub-decks.\n",
    "        drop_from_right_deck = should_drop_from_right_deck(\n",
    "            n_left=n_left,\n",
    "            n_right=n_right,\n",
    "            seed=seed,\n",
    "        )\n",
    "        \n",
    "        if drop_from_right_deck is True:\n",
    "            # Drop from the bottom of right sub-deck onto the shuffled pile.\n",
    "            shuffled_deck.append(right_deck[-1])\n",
    "            right_deck = right_deck[0:len(right_deck)-1]\n",
    "            n_right = len(right_deck)\n",
    "        else:\n",
    "            # Drop from the bottom of left sub-deck onto the shuffled pile.\n",
    "            shuffled_deck.append(left_deck[-1])\n",
    "            left_deck = left_deck[0:len(left_deck)-1]\n",
    "            n_left = len(left_deck)\n",
    "    \n",
    "    return shuffled_deck"
   ]
  }
 ],
 "metadata": {
  "kernelspec": {
   "display_name": "Python 3",
   "language": "python",
   "name": "python3"
  },
  "language_info": {
   "codemirror_mode": {
    "name": "ipython",
    "version": 3
   },
   "file_extension": ".py",
   "mimetype": "text/x-python",
   "name": "python",
   "nbconvert_exporter": "python",
   "pygments_lexer": "ipython3",
   "version": "3.5.2"
  }
 },
 "nbformat": 4,
 "nbformat_minor": 1
}
